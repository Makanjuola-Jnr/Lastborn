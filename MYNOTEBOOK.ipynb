{
 "cells": [
  {
   "cell_type": "markdown",
   "id": "f9c39580-9665-43f9-9abd-30449dd3fa33",
   "metadata": {},
   "source": [
    "# My Jupyter Notebook on IBM Watson Studio"
   ]
  },
  {
   "cell_type": "markdown",
   "id": "79484708-0d57-4d93-917c-bd2bd1f6a16c",
   "metadata": {},
   "source": [
    "**MAKANJUOLA ABDULQUADR BABALOLA**\n",
    "\n",
    "I am currently a student and I'm hoping to become a Data Scientist soonest"
   ]
  },
  {
   "cell_type": "markdown",
   "id": "f11d7896-cae3-4b45-912a-7def3f602ba9",
   "metadata": {},
   "source": [
    "*I am interested in data science because it will not only give you a great career but will also help you in personal growth. You will be able to have a problem-solving attitude. Since many Data Science roles bridge IT and Management, you will be able to enjoy the best of both worlds*"
   ]
  },
  {
   "cell_type": "markdown",
   "id": "2b0cf513-eaaa-4934-9412-49fc1137293b",
   "metadata": {},
   "source": [
    "### The following code shows simple arithmetic operation"
   ]
  },
  {
   "cell_type": "code",
   "execution_count": 1,
   "id": "0db1940f-f8a8-4977-a9f2-ac8a711f6830",
   "metadata": {},
   "outputs": [
    {
     "data": {
      "text/plain": [
       "15"
      ]
     },
     "execution_count": 1,
     "metadata": {},
     "output_type": "execute_result"
    }
   ],
   "source": [
    "25-10"
   ]
  },
  {
   "cell_type": "markdown",
   "id": "f0cd141d-4c50-43f5-addc-b0614acc0021",
   "metadata": {},
   "source": [
    "EVEN THOUGH ~~THE WORLD IS FUCKED UP~~, IT'S STILL A LOVELY PLACE TO BE!\n",
    "\n",
    "* DATA\n",
    "* IS\n",
    "* LIFE\n",
    "* DON'T\n",
    "*YOU\n",
    "*FORGET\n",
    "\n",
    "| NAME | AGE | GENDER |\n",
    "| ---- | --- | ------ |\n",
    "| JOHN | 021 | MALE |\n",
    "| KATE | 018 | FEMALE|"
   ]
  },
  {
   "cell_type": "code",
   "execution_count": null,
   "id": "924453f0-5259-4de3-85ae-a4e3938b2b57",
   "metadata": {},
   "outputs": [],
   "source": []
  }
 ],
 "metadata": {
  "kernelspec": {
   "display_name": "Python",
   "language": "python",
   "name": "conda-env-python-py"
  },
  "language_info": {
   "codemirror_mode": {
    "name": "ipython",
    "version": 3
   },
   "file_extension": ".py",
   "mimetype": "text/x-python",
   "name": "python",
   "nbconvert_exporter": "python",
   "pygments_lexer": "ipython3",
   "version": "3.7.12"
  }
 },
 "nbformat": 4,
 "nbformat_minor": 5
}
